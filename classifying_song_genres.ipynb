{
 "cells": [
  {
   "cell_type": "markdown",
   "metadata": {},
   "source": [
    "## **Classify Song Genres**"
   ]
  },
  {
   "cell_type": "markdown",
   "metadata": {},
   "source": [
    "Streaming services categorize music to allow for personalized recommendations. They directly analyze the raw audio information and score the raw data on a variety of metrics. \n",
    "\n",
    "With this project, I'll analyze data compiled by a music intelligence and data platform known as 'The Echo Nest.' The goal of the project is to look deep through the dataset and classify the 'genres' of the songs and that too without listening to a single song.\n",
    "\n",
    "Let's start by loading the libraries required for this project."
   ]
  },
  {
   "cell_type": "code",
   "execution_count": 111,
   "metadata": {},
   "outputs": [],
   "source": [
    "# Import libraries\n",
    "import joblib\n",
    "import numpy as np\n",
    "import pandas as pd\n",
    "from pandas import set_option\n",
    "\n",
    "# Sklearn library\n",
    "from sklearn.preprocessing import StandardScaler\n",
    "from sklearn.metrics import accuracy_score, classification_report, confusion_matrix\n",
    "from sklearn.model_selection import cross_val_score, GridSearchCV, KFold, train_test_split\n",
    "\n",
    "# Sklearn classifiers\n",
    "from sklearn.naive_bayes import GaussianNB\n",
    "from sklearn.neighbors import KNeighborsClassifier\n",
    "from sklearn.linear_model import LogisticRegression\n",
    "from sklearn.ensemble import RandomForestClassifier\n",
    "from sklearn.svm import SVC\n",
    "\n",
    "# Plotting tools\n",
    "import matplotlib.pyplot as plt\n",
    "plt.style.use('ggplot')"
   ]
  },
  {
   "cell_type": "markdown",
   "metadata": {},
   "source": [
    "## Prepare the dataset"
   ]
  },
  {
   "cell_type": "code",
   "execution_count": 112,
   "metadata": {},
   "outputs": [
    {
     "data": {
      "text/html": [
       "<div>\n",
       "<style scoped>\n",
       "    .dataframe tbody tr th:only-of-type {\n",
       "        vertical-align: middle;\n",
       "    }\n",
       "\n",
       "    .dataframe tbody tr th {\n",
       "        vertical-align: top;\n",
       "    }\n",
       "\n",
       "    .dataframe thead th {\n",
       "        text-align: right;\n",
       "    }\n",
       "</style>\n",
       "<table border=\"1\" class=\"dataframe\">\n",
       "  <thead>\n",
       "    <tr style=\"text-align: right;\">\n",
       "      <th></th>\n",
       "      <th>track_id</th>\n",
       "      <th>bit_rate</th>\n",
       "      <th>comments</th>\n",
       "      <th>composer</th>\n",
       "      <th>date_created</th>\n",
       "      <th>date_recorded</th>\n",
       "      <th>duration</th>\n",
       "      <th>favorites</th>\n",
       "      <th>genre_top</th>\n",
       "      <th>genres</th>\n",
       "      <th>...</th>\n",
       "      <th>information</th>\n",
       "      <th>interest</th>\n",
       "      <th>language_code</th>\n",
       "      <th>license</th>\n",
       "      <th>listens</th>\n",
       "      <th>lyricist</th>\n",
       "      <th>number</th>\n",
       "      <th>publisher</th>\n",
       "      <th>tags</th>\n",
       "      <th>title</th>\n",
       "    </tr>\n",
       "  </thead>\n",
       "  <tbody>\n",
       "    <tr>\n",
       "      <th>0</th>\n",
       "      <td>135</td>\n",
       "      <td>256000</td>\n",
       "      <td>1</td>\n",
       "      <td>NaN</td>\n",
       "      <td>2008-11-26 01:43:26</td>\n",
       "      <td>2008-11-26 00:00:00</td>\n",
       "      <td>837</td>\n",
       "      <td>0</td>\n",
       "      <td>Rock</td>\n",
       "      <td>[45, 58]</td>\n",
       "      <td>...</td>\n",
       "      <td>NaN</td>\n",
       "      <td>2484</td>\n",
       "      <td>en</td>\n",
       "      <td>Attribution-NonCommercial-ShareAlike 3.0 Inter...</td>\n",
       "      <td>1832</td>\n",
       "      <td>NaN</td>\n",
       "      <td>0</td>\n",
       "      <td>NaN</td>\n",
       "      <td>[]</td>\n",
       "      <td>Father's Day</td>\n",
       "    </tr>\n",
       "    <tr>\n",
       "      <th>1</th>\n",
       "      <td>136</td>\n",
       "      <td>256000</td>\n",
       "      <td>1</td>\n",
       "      <td>NaN</td>\n",
       "      <td>2008-11-26 01:43:35</td>\n",
       "      <td>2008-11-26 00:00:00</td>\n",
       "      <td>509</td>\n",
       "      <td>0</td>\n",
       "      <td>Rock</td>\n",
       "      <td>[45, 58]</td>\n",
       "      <td>...</td>\n",
       "      <td>NaN</td>\n",
       "      <td>1948</td>\n",
       "      <td>en</td>\n",
       "      <td>Attribution-NonCommercial-ShareAlike 3.0 Inter...</td>\n",
       "      <td>1498</td>\n",
       "      <td>NaN</td>\n",
       "      <td>0</td>\n",
       "      <td>NaN</td>\n",
       "      <td>[]</td>\n",
       "      <td>Peel Back The Mountain Sky</td>\n",
       "    </tr>\n",
       "    <tr>\n",
       "      <th>2</th>\n",
       "      <td>151</td>\n",
       "      <td>192000</td>\n",
       "      <td>0</td>\n",
       "      <td>NaN</td>\n",
       "      <td>2008-11-26 01:44:55</td>\n",
       "      <td>NaN</td>\n",
       "      <td>192</td>\n",
       "      <td>0</td>\n",
       "      <td>Rock</td>\n",
       "      <td>[25]</td>\n",
       "      <td>...</td>\n",
       "      <td>NaN</td>\n",
       "      <td>701</td>\n",
       "      <td>en</td>\n",
       "      <td>Attribution-NonCommercial-ShareAlike 3.0 Inter...</td>\n",
       "      <td>148</td>\n",
       "      <td>NaN</td>\n",
       "      <td>4</td>\n",
       "      <td>NaN</td>\n",
       "      <td>[]</td>\n",
       "      <td>Untitled 04</td>\n",
       "    </tr>\n",
       "    <tr>\n",
       "      <th>3</th>\n",
       "      <td>152</td>\n",
       "      <td>192000</td>\n",
       "      <td>0</td>\n",
       "      <td>NaN</td>\n",
       "      <td>2008-11-26 01:44:58</td>\n",
       "      <td>NaN</td>\n",
       "      <td>193</td>\n",
       "      <td>0</td>\n",
       "      <td>Rock</td>\n",
       "      <td>[25]</td>\n",
       "      <td>...</td>\n",
       "      <td>NaN</td>\n",
       "      <td>637</td>\n",
       "      <td>en</td>\n",
       "      <td>Attribution-NonCommercial-ShareAlike 3.0 Inter...</td>\n",
       "      <td>98</td>\n",
       "      <td>NaN</td>\n",
       "      <td>11</td>\n",
       "      <td>NaN</td>\n",
       "      <td>[]</td>\n",
       "      <td>Untitled 11</td>\n",
       "    </tr>\n",
       "    <tr>\n",
       "      <th>4</th>\n",
       "      <td>153</td>\n",
       "      <td>256000</td>\n",
       "      <td>0</td>\n",
       "      <td>Arc and Sender</td>\n",
       "      <td>2008-11-26 01:45:00</td>\n",
       "      <td>2008-11-26 00:00:00</td>\n",
       "      <td>405</td>\n",
       "      <td>5</td>\n",
       "      <td>Rock</td>\n",
       "      <td>[26]</td>\n",
       "      <td>...</td>\n",
       "      <td>NaN</td>\n",
       "      <td>354</td>\n",
       "      <td>en</td>\n",
       "      <td>Attribution-NonCommercial-NoDerivatives (aka M...</td>\n",
       "      <td>424</td>\n",
       "      <td>NaN</td>\n",
       "      <td>2</td>\n",
       "      <td>NaN</td>\n",
       "      <td>[]</td>\n",
       "      <td>Hundred-Year Flood</td>\n",
       "    </tr>\n",
       "  </tbody>\n",
       "</table>\n",
       "<p>5 rows × 21 columns</p>\n",
       "</div>"
      ],
      "text/plain": [
       "   track_id  bit_rate  comments        composer         date_created  \\\n",
       "0       135    256000         1             NaN  2008-11-26 01:43:26   \n",
       "1       136    256000         1             NaN  2008-11-26 01:43:35   \n",
       "2       151    192000         0             NaN  2008-11-26 01:44:55   \n",
       "3       152    192000         0             NaN  2008-11-26 01:44:58   \n",
       "4       153    256000         0  Arc and Sender  2008-11-26 01:45:00   \n",
       "\n",
       "         date_recorded  duration  favorites genre_top    genres  ...  \\\n",
       "0  2008-11-26 00:00:00       837          0      Rock  [45, 58]  ...   \n",
       "1  2008-11-26 00:00:00       509          0      Rock  [45, 58]  ...   \n",
       "2                  NaN       192          0      Rock      [25]  ...   \n",
       "3                  NaN       193          0      Rock      [25]  ...   \n",
       "4  2008-11-26 00:00:00       405          5      Rock      [26]  ...   \n",
       "\n",
       "  information interest  language_code  \\\n",
       "0         NaN     2484             en   \n",
       "1         NaN     1948             en   \n",
       "2         NaN      701             en   \n",
       "3         NaN      637             en   \n",
       "4         NaN      354             en   \n",
       "\n",
       "                                             license listens  lyricist number  \\\n",
       "0  Attribution-NonCommercial-ShareAlike 3.0 Inter...    1832       NaN      0   \n",
       "1  Attribution-NonCommercial-ShareAlike 3.0 Inter...    1498       NaN      0   \n",
       "2  Attribution-NonCommercial-ShareAlike 3.0 Inter...     148       NaN      4   \n",
       "3  Attribution-NonCommercial-ShareAlike 3.0 Inter...      98       NaN     11   \n",
       "4  Attribution-NonCommercial-NoDerivatives (aka M...     424       NaN      2   \n",
       "\n",
       "   publisher tags                       title  \n",
       "0        NaN   []                Father's Day  \n",
       "1        NaN   []  Peel Back The Mountain Sky  \n",
       "2        NaN   []                 Untitled 04  \n",
       "3        NaN   []                 Untitled 11  \n",
       "4        NaN   []          Hundred-Year Flood  \n",
       "\n",
       "[5 rows x 21 columns]"
      ]
     },
     "execution_count": 112,
     "metadata": {},
     "output_type": "execute_result"
    }
   ],
   "source": [
    "# Read in track metadata with genre labels\n",
    "tracks = pd.read_csv('./datasets/fma-rock-vs-hiphop.csv')\n",
    "tracks.head()"
   ]
  },
  {
   "cell_type": "code",
   "execution_count": 113,
   "metadata": {},
   "outputs": [
    {
     "data": {
      "text/html": [
       "<div>\n",
       "<style scoped>\n",
       "    .dataframe tbody tr th:only-of-type {\n",
       "        vertical-align: middle;\n",
       "    }\n",
       "\n",
       "    .dataframe tbody tr th {\n",
       "        vertical-align: top;\n",
       "    }\n",
       "\n",
       "    .dataframe thead th {\n",
       "        text-align: right;\n",
       "    }\n",
       "</style>\n",
       "<table border=\"1\" class=\"dataframe\">\n",
       "  <thead>\n",
       "    <tr style=\"text-align: right;\">\n",
       "      <th></th>\n",
       "      <th>track_id</th>\n",
       "      <th>acousticness</th>\n",
       "      <th>danceability</th>\n",
       "      <th>energy</th>\n",
       "      <th>instrumentalness</th>\n",
       "      <th>liveness</th>\n",
       "      <th>speechiness</th>\n",
       "      <th>tempo</th>\n",
       "      <th>valence</th>\n",
       "    </tr>\n",
       "  </thead>\n",
       "  <tbody>\n",
       "    <tr>\n",
       "      <th>0</th>\n",
       "      <td>2</td>\n",
       "      <td>0.416675</td>\n",
       "      <td>0.675894</td>\n",
       "      <td>0.634476</td>\n",
       "      <td>0.010628</td>\n",
       "      <td>0.177647</td>\n",
       "      <td>0.159310</td>\n",
       "      <td>165.922</td>\n",
       "      <td>0.576661</td>\n",
       "    </tr>\n",
       "    <tr>\n",
       "      <th>1</th>\n",
       "      <td>3</td>\n",
       "      <td>0.374408</td>\n",
       "      <td>0.528643</td>\n",
       "      <td>0.817461</td>\n",
       "      <td>0.001851</td>\n",
       "      <td>0.105880</td>\n",
       "      <td>0.461818</td>\n",
       "      <td>126.957</td>\n",
       "      <td>0.269240</td>\n",
       "    </tr>\n",
       "    <tr>\n",
       "      <th>2</th>\n",
       "      <td>5</td>\n",
       "      <td>0.043567</td>\n",
       "      <td>0.745566</td>\n",
       "      <td>0.701470</td>\n",
       "      <td>0.000697</td>\n",
       "      <td>0.373143</td>\n",
       "      <td>0.124595</td>\n",
       "      <td>100.260</td>\n",
       "      <td>0.621661</td>\n",
       "    </tr>\n",
       "    <tr>\n",
       "      <th>3</th>\n",
       "      <td>10</td>\n",
       "      <td>0.951670</td>\n",
       "      <td>0.658179</td>\n",
       "      <td>0.924525</td>\n",
       "      <td>0.965427</td>\n",
       "      <td>0.115474</td>\n",
       "      <td>0.032985</td>\n",
       "      <td>111.562</td>\n",
       "      <td>0.963590</td>\n",
       "    </tr>\n",
       "    <tr>\n",
       "      <th>4</th>\n",
       "      <td>134</td>\n",
       "      <td>0.452217</td>\n",
       "      <td>0.513238</td>\n",
       "      <td>0.560410</td>\n",
       "      <td>0.019443</td>\n",
       "      <td>0.096567</td>\n",
       "      <td>0.525519</td>\n",
       "      <td>114.290</td>\n",
       "      <td>0.894072</td>\n",
       "    </tr>\n",
       "  </tbody>\n",
       "</table>\n",
       "</div>"
      ],
      "text/plain": [
       "   track_id  acousticness  danceability    energy  instrumentalness  liveness  \\\n",
       "0         2      0.416675      0.675894  0.634476          0.010628  0.177647   \n",
       "1         3      0.374408      0.528643  0.817461          0.001851  0.105880   \n",
       "2         5      0.043567      0.745566  0.701470          0.000697  0.373143   \n",
       "3        10      0.951670      0.658179  0.924525          0.965427  0.115474   \n",
       "4       134      0.452217      0.513238  0.560410          0.019443  0.096567   \n",
       "\n",
       "   speechiness    tempo   valence  \n",
       "0     0.159310  165.922  0.576661  \n",
       "1     0.461818  126.957  0.269240  \n",
       "2     0.124595  100.260  0.621661  \n",
       "3     0.032985  111.562  0.963590  \n",
       "4     0.525519  114.290  0.894072  "
      ]
     },
     "execution_count": 113,
     "metadata": {},
     "output_type": "execute_result"
    }
   ],
   "source": [
    "# Read in track metrics with the features\n",
    "metrics = pd.read_json('datasets/echonest-metrics.json', precise_float=True)\n",
    "metrics.head()"
   ]
  },
  {
   "cell_type": "code",
   "execution_count": 114,
   "metadata": {},
   "outputs": [
    {
     "data": {
      "text/html": [
       "<div>\n",
       "<style scoped>\n",
       "    .dataframe tbody tr th:only-of-type {\n",
       "        vertical-align: middle;\n",
       "    }\n",
       "\n",
       "    .dataframe tbody tr th {\n",
       "        vertical-align: top;\n",
       "    }\n",
       "\n",
       "    .dataframe thead th {\n",
       "        text-align: right;\n",
       "    }\n",
       "</style>\n",
       "<table border=\"1\" class=\"dataframe\">\n",
       "  <thead>\n",
       "    <tr style=\"text-align: right;\">\n",
       "      <th></th>\n",
       "      <th>acousticness</th>\n",
       "      <th>danceability</th>\n",
       "      <th>energy</th>\n",
       "      <th>instrumentalness</th>\n",
       "      <th>liveness</th>\n",
       "      <th>speechiness</th>\n",
       "      <th>tempo</th>\n",
       "      <th>valence</th>\n",
       "      <th>genre_top</th>\n",
       "    </tr>\n",
       "  </thead>\n",
       "  <tbody>\n",
       "    <tr>\n",
       "      <th>0</th>\n",
       "      <td>0.416675</td>\n",
       "      <td>0.675894</td>\n",
       "      <td>0.634476</td>\n",
       "      <td>0.010628</td>\n",
       "      <td>0.177647</td>\n",
       "      <td>0.159310</td>\n",
       "      <td>165.922</td>\n",
       "      <td>0.576661</td>\n",
       "      <td>Hip-Hop</td>\n",
       "    </tr>\n",
       "    <tr>\n",
       "      <th>1</th>\n",
       "      <td>0.374408</td>\n",
       "      <td>0.528643</td>\n",
       "      <td>0.817461</td>\n",
       "      <td>0.001851</td>\n",
       "      <td>0.105880</td>\n",
       "      <td>0.461818</td>\n",
       "      <td>126.957</td>\n",
       "      <td>0.269240</td>\n",
       "      <td>Hip-Hop</td>\n",
       "    </tr>\n",
       "    <tr>\n",
       "      <th>2</th>\n",
       "      <td>0.043567</td>\n",
       "      <td>0.745566</td>\n",
       "      <td>0.701470</td>\n",
       "      <td>0.000697</td>\n",
       "      <td>0.373143</td>\n",
       "      <td>0.124595</td>\n",
       "      <td>100.260</td>\n",
       "      <td>0.621661</td>\n",
       "      <td>Hip-Hop</td>\n",
       "    </tr>\n",
       "    <tr>\n",
       "      <th>3</th>\n",
       "      <td>0.452217</td>\n",
       "      <td>0.513238</td>\n",
       "      <td>0.560410</td>\n",
       "      <td>0.019443</td>\n",
       "      <td>0.096567</td>\n",
       "      <td>0.525519</td>\n",
       "      <td>114.290</td>\n",
       "      <td>0.894072</td>\n",
       "      <td>Hip-Hop</td>\n",
       "    </tr>\n",
       "    <tr>\n",
       "      <th>4</th>\n",
       "      <td>0.988306</td>\n",
       "      <td>0.255661</td>\n",
       "      <td>0.979774</td>\n",
       "      <td>0.973006</td>\n",
       "      <td>0.121342</td>\n",
       "      <td>0.051740</td>\n",
       "      <td>90.241</td>\n",
       "      <td>0.034018</td>\n",
       "      <td>Rock</td>\n",
       "    </tr>\n",
       "  </tbody>\n",
       "</table>\n",
       "</div>"
      ],
      "text/plain": [
       "   acousticness  danceability    energy  instrumentalness  liveness  \\\n",
       "0      0.416675      0.675894  0.634476          0.010628  0.177647   \n",
       "1      0.374408      0.528643  0.817461          0.001851  0.105880   \n",
       "2      0.043567      0.745566  0.701470          0.000697  0.373143   \n",
       "3      0.452217      0.513238  0.560410          0.019443  0.096567   \n",
       "4      0.988306      0.255661  0.979774          0.973006  0.121342   \n",
       "\n",
       "   speechiness    tempo   valence genre_top  \n",
       "0     0.159310  165.922  0.576661   Hip-Hop  \n",
       "1     0.461818  126.957  0.269240   Hip-Hop  \n",
       "2     0.124595  100.260  0.621661   Hip-Hop  \n",
       "3     0.525519  114.290  0.894072   Hip-Hop  \n",
       "4     0.051740   90.241  0.034018      Rock  "
      ]
     },
     "execution_count": 114,
     "metadata": {},
     "output_type": "execute_result"
    }
   ],
   "source": [
    "# Merge the relevant columns of tracks and metrics datasets\n",
    "df = pd.merge(metrics, tracks[['track_id', 'genre_top']], on='track_id')\n",
    "df = df.drop('track_id', axis=1)\n",
    "df.head()"
   ]
  },
  {
   "cell_type": "code",
   "execution_count": 115,
   "metadata": {},
   "outputs": [
    {
     "name": "stdout",
     "output_type": "stream",
     "text": [
      "<class 'pandas.core.frame.DataFrame'>\n",
      "Int64Index: 4802 entries, 0 to 4801\n",
      "Data columns (total 9 columns):\n",
      " #   Column            Non-Null Count  Dtype  \n",
      "---  ------            --------------  -----  \n",
      " 0   acousticness      4802 non-null   float64\n",
      " 1   danceability      4802 non-null   float64\n",
      " 2   energy            4802 non-null   float64\n",
      " 3   instrumentalness  4802 non-null   float64\n",
      " 4   liveness          4802 non-null   float64\n",
      " 5   speechiness       4802 non-null   float64\n",
      " 6   tempo             4802 non-null   float64\n",
      " 7   valence           4802 non-null   float64\n",
      " 8   genre_top         4802 non-null   object \n",
      "dtypes: float64(8), object(1)\n",
      "memory usage: 375.2+ KB\n"
     ]
    }
   ],
   "source": [
    "# Inspect the merged dataframe\n",
    "df.info()"
   ]
  },
  {
   "cell_type": "markdown",
   "metadata": {},
   "source": [
    "We have 4,802 instances to work with and no missing values. We can also confirm that the data has only 1 categorical feature, the target attribute."
   ]
  },
  {
   "cell_type": "code",
   "execution_count": 116,
   "metadata": {},
   "outputs": [
    {
     "data": {
      "text/html": [
       "<div>\n",
       "<style scoped>\n",
       "    .dataframe tbody tr th:only-of-type {\n",
       "        vertical-align: middle;\n",
       "    }\n",
       "\n",
       "    .dataframe tbody tr th {\n",
       "        vertical-align: top;\n",
       "    }\n",
       "\n",
       "    .dataframe thead th {\n",
       "        text-align: right;\n",
       "    }\n",
       "</style>\n",
       "<table border=\"1\" class=\"dataframe\">\n",
       "  <thead>\n",
       "    <tr style=\"text-align: right;\">\n",
       "      <th></th>\n",
       "      <th>acousticness</th>\n",
       "      <th>danceability</th>\n",
       "      <th>energy</th>\n",
       "      <th>instrumentalness</th>\n",
       "      <th>liveness</th>\n",
       "      <th>speechiness</th>\n",
       "      <th>tempo</th>\n",
       "      <th>valence</th>\n",
       "    </tr>\n",
       "  </thead>\n",
       "  <tbody>\n",
       "    <tr>\n",
       "      <th>count</th>\n",
       "      <td>4.802000e+03</td>\n",
       "      <td>4802.000000</td>\n",
       "      <td>4802.000000</td>\n",
       "      <td>4802.000000</td>\n",
       "      <td>4802.000000</td>\n",
       "      <td>4802.000000</td>\n",
       "      <td>4802.000000</td>\n",
       "      <td>4802.000000</td>\n",
       "    </tr>\n",
       "    <tr>\n",
       "      <th>mean</th>\n",
       "      <td>4.870600e-01</td>\n",
       "      <td>0.436556</td>\n",
       "      <td>0.625126</td>\n",
       "      <td>0.604096</td>\n",
       "      <td>0.187997</td>\n",
       "      <td>0.104877</td>\n",
       "      <td>126.687944</td>\n",
       "      <td>0.453413</td>\n",
       "    </tr>\n",
       "    <tr>\n",
       "      <th>std</th>\n",
       "      <td>3.681396e-01</td>\n",
       "      <td>0.183502</td>\n",
       "      <td>0.244051</td>\n",
       "      <td>0.376487</td>\n",
       "      <td>0.150562</td>\n",
       "      <td>0.145934</td>\n",
       "      <td>34.002473</td>\n",
       "      <td>0.266632</td>\n",
       "    </tr>\n",
       "    <tr>\n",
       "      <th>min</th>\n",
       "      <td>9.491000e-07</td>\n",
       "      <td>0.051307</td>\n",
       "      <td>0.000279</td>\n",
       "      <td>0.000000</td>\n",
       "      <td>0.025297</td>\n",
       "      <td>0.023234</td>\n",
       "      <td>29.093000</td>\n",
       "      <td>0.014392</td>\n",
       "    </tr>\n",
       "    <tr>\n",
       "      <th>25%</th>\n",
       "      <td>8.351236e-02</td>\n",
       "      <td>0.296047</td>\n",
       "      <td>0.450757</td>\n",
       "      <td>0.164972</td>\n",
       "      <td>0.104052</td>\n",
       "      <td>0.036897</td>\n",
       "      <td>98.000750</td>\n",
       "      <td>0.224617</td>\n",
       "    </tr>\n",
       "    <tr>\n",
       "      <th>50%</th>\n",
       "      <td>5.156888e-01</td>\n",
       "      <td>0.419447</td>\n",
       "      <td>0.648374</td>\n",
       "      <td>0.808752</td>\n",
       "      <td>0.123080</td>\n",
       "      <td>0.049594</td>\n",
       "      <td>124.625500</td>\n",
       "      <td>0.446240</td>\n",
       "    </tr>\n",
       "    <tr>\n",
       "      <th>75%</th>\n",
       "      <td>8.555765e-01</td>\n",
       "      <td>0.565339</td>\n",
       "      <td>0.837016</td>\n",
       "      <td>0.915472</td>\n",
       "      <td>0.215151</td>\n",
       "      <td>0.088290</td>\n",
       "      <td>151.450000</td>\n",
       "      <td>0.666914</td>\n",
       "    </tr>\n",
       "    <tr>\n",
       "      <th>max</th>\n",
       "      <td>9.957965e-01</td>\n",
       "      <td>0.961871</td>\n",
       "      <td>0.999768</td>\n",
       "      <td>0.993134</td>\n",
       "      <td>0.971392</td>\n",
       "      <td>0.966177</td>\n",
       "      <td>250.059000</td>\n",
       "      <td>0.983649</td>\n",
       "    </tr>\n",
       "  </tbody>\n",
       "</table>\n",
       "</div>"
      ],
      "text/plain": [
       "       acousticness  danceability       energy  instrumentalness     liveness  \\\n",
       "count  4.802000e+03   4802.000000  4802.000000       4802.000000  4802.000000   \n",
       "mean   4.870600e-01      0.436556     0.625126          0.604096     0.187997   \n",
       "std    3.681396e-01      0.183502     0.244051          0.376487     0.150562   \n",
       "min    9.491000e-07      0.051307     0.000279          0.000000     0.025297   \n",
       "25%    8.351236e-02      0.296047     0.450757          0.164972     0.104052   \n",
       "50%    5.156888e-01      0.419447     0.648374          0.808752     0.123080   \n",
       "75%    8.555765e-01      0.565339     0.837016          0.915472     0.215151   \n",
       "max    9.957965e-01      0.961871     0.999768          0.993134     0.971392   \n",
       "\n",
       "       speechiness        tempo      valence  \n",
       "count  4802.000000  4802.000000  4802.000000  \n",
       "mean      0.104877   126.687944     0.453413  \n",
       "std       0.145934    34.002473     0.266632  \n",
       "min       0.023234    29.093000     0.014392  \n",
       "25%       0.036897    98.000750     0.224617  \n",
       "50%       0.049594   124.625500     0.446240  \n",
       "75%       0.088290   151.450000     0.666914  \n",
       "max       0.966177   250.059000     0.983649  "
      ]
     },
     "execution_count": 116,
     "metadata": {},
     "output_type": "execute_result"
    }
   ],
   "source": [
    "# Descriptions\n",
    "df.describe()"
   ]
  },
  {
   "cell_type": "markdown",
   "metadata": {},
   "source": [
    "## Visualize individual attributes"
   ]
  },
  {
   "cell_type": "code",
   "execution_count": 117,
   "metadata": {},
   "outputs": [
    {
     "data": {
      "image/png": "[encoded data removed]",
      "text/plain": [
       "<Figure size 1080x864 with 9 Axes>"
      ]
     },
     "metadata": {},
     "output_type": "display_data"
    }
   ],
   "source": [
    "# Histograms\n",
    "df.hist(bins=50, figsize=(15,12));"
   ]
  },
  {
   "cell_type": "markdown",
   "metadata": {},
   "source": [
    "We can see that there are only a cuple of normal-like distributions."
   ]
  },
  {
   "cell_type": "markdown",
   "metadata": {},
   "source": [
    "## Box and whisker plots to get an idea of the spread of values"
   ]
  },
  {
   "cell_type": "code",
   "execution_count": 118,
   "metadata": {},
   "outputs": [
    {
     "data": {
      "image/png": "[encoded data removed]",
      "text/plain": [
       "<Figure size 1800x720 with 8 Axes>"
      ]
     },
     "metadata": {},
     "output_type": "display_data"
    }
   ],
   "source": [
    "# Box and whisker plots\n",
    "df.plot(kind='box', subplots=True)\n",
    "plt.gcf().set_size_inches(25,10);"
   ]
  },
  {
   "cell_type": "markdown",
   "metadata": {},
   "source": [
    "The attributes have different spreads, with a couple of variables having outliers. We need to standardize the data to get all the means lined up and use winsorize to handle the outliers for modeling."
   ]
  },
  {
   "cell_type": "markdown",
   "metadata": {},
   "source": [
    "## Let's winsorize outliers"
   ]
  },
  {
   "cell_type": "code",
   "execution_count": 119,
   "metadata": {},
   "outputs": [
    {
     "data": {
      "text/html": [
       "<div>\n",
       "<style scoped>\n",
       "    .dataframe tbody tr th:only-of-type {\n",
       "        vertical-align: middle;\n",
       "    }\n",
       "\n",
       "    .dataframe tbody tr th {\n",
       "        vertical-align: top;\n",
       "    }\n",
       "\n",
       "    .dataframe thead th {\n",
       "        text-align: right;\n",
       "    }\n",
       "</style>\n",
       "<table border=\"1\" class=\"dataframe\">\n",
       "  <thead>\n",
       "    <tr style=\"text-align: right;\">\n",
       "      <th></th>\n",
       "      <th>liveness</th>\n",
       "      <th>speechiness</th>\n",
       "      <th>tempo</th>\n",
       "      <th>acousticness</th>\n",
       "      <th>danceability</th>\n",
       "      <th>energy</th>\n",
       "      <th>instrumentalness</th>\n",
       "      <th>valence</th>\n",
       "    </tr>\n",
       "  </thead>\n",
       "  <tbody>\n",
       "    <tr>\n",
       "      <th>count</th>\n",
       "      <td>4802.000000</td>\n",
       "      <td>4802.000000</td>\n",
       "      <td>4802.000000</td>\n",
       "      <td>4.802000e+03</td>\n",
       "      <td>4802.000000</td>\n",
       "      <td>4802.000000</td>\n",
       "      <td>4802.000000</td>\n",
       "      <td>4802.000000</td>\n",
       "    </tr>\n",
       "    <tr>\n",
       "      <th>mean</th>\n",
       "      <td>0.188005</td>\n",
       "      <td>0.105319</td>\n",
       "      <td>124.017036</td>\n",
       "      <td>4.870600e-01</td>\n",
       "      <td>0.436556</td>\n",
       "      <td>0.625126</td>\n",
       "      <td>0.604096</td>\n",
       "      <td>0.453413</td>\n",
       "    </tr>\n",
       "    <tr>\n",
       "      <th>std</th>\n",
       "      <td>0.150554</td>\n",
       "      <td>0.145709</td>\n",
       "      <td>29.431442</td>\n",
       "      <td>3.681396e-01</td>\n",
       "      <td>0.183502</td>\n",
       "      <td>0.244051</td>\n",
       "      <td>0.376487</td>\n",
       "      <td>0.266632</td>\n",
       "    </tr>\n",
       "    <tr>\n",
       "      <th>min</th>\n",
       "      <td>0.032849</td>\n",
       "      <td>0.032849</td>\n",
       "      <td>29.093000</td>\n",
       "      <td>9.491000e-07</td>\n",
       "      <td>0.051307</td>\n",
       "      <td>0.000279</td>\n",
       "      <td>0.000000</td>\n",
       "      <td>0.014392</td>\n",
       "    </tr>\n",
       "    <tr>\n",
       "      <th>25%</th>\n",
       "      <td>0.104052</td>\n",
       "      <td>0.036897</td>\n",
       "      <td>98.000750</td>\n",
       "      <td>8.351236e-02</td>\n",
       "      <td>0.296047</td>\n",
       "      <td>0.450757</td>\n",
       "      <td>0.164972</td>\n",
       "      <td>0.224617</td>\n",
       "    </tr>\n",
       "    <tr>\n",
       "      <th>50%</th>\n",
       "      <td>0.123080</td>\n",
       "      <td>0.049594</td>\n",
       "      <td>124.625500</td>\n",
       "      <td>5.156888e-01</td>\n",
       "      <td>0.419447</td>\n",
       "      <td>0.648374</td>\n",
       "      <td>0.808752</td>\n",
       "      <td>0.446240</td>\n",
       "    </tr>\n",
       "    <tr>\n",
       "      <th>75%</th>\n",
       "      <td>0.215151</td>\n",
       "      <td>0.088290</td>\n",
       "      <td>151.450000</td>\n",
       "      <td>8.555765e-01</td>\n",
       "      <td>0.565339</td>\n",
       "      <td>0.837016</td>\n",
       "      <td>0.915472</td>\n",
       "      <td>0.666914</td>\n",
       "    </tr>\n",
       "    <tr>\n",
       "      <th>max</th>\n",
       "      <td>0.971392</td>\n",
       "      <td>0.966177</td>\n",
       "      <td>163.994000</td>\n",
       "      <td>9.957965e-01</td>\n",
       "      <td>0.961871</td>\n",
       "      <td>0.999768</td>\n",
       "      <td>0.993134</td>\n",
       "      <td>0.983649</td>\n",
       "    </tr>\n",
       "  </tbody>\n",
       "</table>\n",
       "</div>"
      ],
      "text/plain": [
       "          liveness  speechiness        tempo  acousticness  danceability  \\\n",
       "count  4802.000000  4802.000000  4802.000000  4.802000e+03   4802.000000   \n",
       "mean      0.188005     0.105319   124.017036  4.870600e-01      0.436556   \n",
       "std       0.150554     0.145709    29.431442  3.681396e-01      0.183502   \n",
       "min       0.032849     0.032849    29.093000  9.491000e-07      0.051307   \n",
       "25%       0.104052     0.036897    98.000750  8.351236e-02      0.296047   \n",
       "50%       0.123080     0.049594   124.625500  5.156888e-01      0.419447   \n",
       "75%       0.215151     0.088290   151.450000  8.555765e-01      0.565339   \n",
       "max       0.971392     0.966177   163.994000  9.957965e-01      0.961871   \n",
       "\n",
       "            energy  instrumentalness      valence  \n",
       "count  4802.000000       4802.000000  4802.000000  \n",
       "mean      0.625126          0.604096     0.453413  \n",
       "std       0.244051          0.376487     0.266632  \n",
       "min       0.000279          0.000000     0.014392  \n",
       "25%       0.450757          0.164972     0.224617  \n",
       "50%       0.648374          0.808752     0.446240  \n",
       "75%       0.837016          0.915472     0.666914  \n",
       "max       0.999768          0.993134     0.983649  "
      ]
     },
     "execution_count": 119,
     "metadata": {},
     "output_type": "execute_result"
    }
   ],
   "source": [
    "# Winsorize outliers\n",
    "from scipy.stats.mstats import winsorize\n",
    "\n",
    "# Winsorize the columns with outliers\n",
    "win = winsorize(df[['liveness', 'speechiness', 'tempo']], limits=[0.05, 0.05])\n",
    "\n",
    "# Convert to datafraame\n",
    "df_win = pd.DataFrame(win, columns=['liveness', 'speechiness', 'tempo'])\n",
    "\n",
    "df_non_win = df.drop(['liveness', 'speechiness', 'tempo'], axis=1)\n",
    "\n",
    "df = pd.concat([df_win, df_non_win], axis=1)\n",
    "df.describe()"
   ]
  },
  {
   "cell_type": "markdown",
   "metadata": {},
   "source": [
    "## Principal Component Analysis"
   ]
  },
  {
   "cell_type": "markdown",
   "metadata": {},
   "source": [
    "Let's see how much we can reduce the dimensionality of our data, using PCA. We can use scree plots and cumulative explained ratio plots to find the number of components to use in further analyses."
   ]
  },
  {
   "cell_type": "code",
   "execution_count": 120,
   "metadata": {},
   "outputs": [],
   "source": [
    "# Define our features \n",
    "X = df.drop(['genre_top'], axis=1)\n",
    "\n",
    "# Define our labels\n",
    "y = df['genre_top'].map({'Rock': 1, 'Hip-Hop': 0})"
   ]
  },
  {
   "cell_type": "code",
   "execution_count": 121,
   "metadata": {},
   "outputs": [],
   "source": [
    "from sklearn.decomposition import PCA\n",
    "from sklearn.pipeline import Pipeline\n",
    "\n",
    "pipe = Pipeline([\n",
    "    ('scaler', StandardScaler()),\n",
    "    ('pca', PCA())])"
   ]
  },
  {
   "cell_type": "code",
   "execution_count": 122,
   "metadata": {},
   "outputs": [],
   "source": [
    "# Fit the pipe to the data\n",
    "pc = pipe.fit_transform(X)\n",
    "var = pipe.steps[1][1].explained_variance_ratio_"
   ]
  },
  {
   "cell_type": "code",
   "execution_count": 123,
   "metadata": {},
   "outputs": [
    {
     "data": {
      "image/png": "[encoded data removed]",
      "text/plain": [
       "<Figure size 432x288 with 1 Axes>"
      ]
     },
     "metadata": {},
     "output_type": "display_data"
    }
   ],
   "source": [
    "# Scree plots\n",
    "pipe.fit(X)\n",
    "plt.plot(var)\n",
    "plt.xlabel('Principal component index')\n",
    "plt.ylabel('Explained variance ratio')\n",
    "plt.show()"
   ]
  },
  {
   "cell_type": "markdown",
   "metadata": {},
   "source": [
    "## Further visualization of PCA\n",
    "\n",
    "It seems there isn't any clear elbow in this scree plot. Let's take a look at the cumulative explained variance plot to determine how many features are required to explain, say, about 90% of the variance. Once we determine the appropriate number of components, we can perform PCA with that many components, ideally reducing the dimensionality of our data."
   ]
  },
  {
   "cell_type": "code",
   "execution_count": 124,
   "metadata": {},
   "outputs": [
    {
     "data": {
      "image/png": "[encoded data removed]",
      "text/plain": [
       "<Figure size 432x288 with 1 Axes>"
      ]
     },
     "metadata": {},
     "output_type": "display_data"
    }
   ],
   "source": [
    "# Calculate the cumulative explained variance\n",
    "cum_exp_variance = np.cumsum(var)\n",
    "\n",
    "# Plot the cumulative explained variance and draw a dashed line at 0.90\n",
    "fig, ax = plt.subplots()\n",
    "ax.plot(range(8), var)\n",
    "ax.axhline(y=0.9, linestyle='--')\n",
    "n_components=2\n",
    "\n",
    "# Perform PCA with the chosen number of components and project data onto components\n",
    "pca = PCA(n_components, random_state=10)\n",
    "pca.fit(X)\n",
    "pca_projection = pca.transform(X)"
   ]
  },
  {
   "cell_type": "markdown",
   "metadata": {},
   "source": [
    "## Build the model"
   ]
  },
  {
   "cell_type": "code",
   "execution_count": 125,
   "metadata": {},
   "outputs": [],
   "source": [
    "# Split our data\n",
    "X_train, X_test, y_train, y_test = train_test_split(pca_projection, y, test_size=0.20, random_state=42)"
   ]
  },
  {
   "cell_type": "code",
   "execution_count": 126,
   "metadata": {},
   "outputs": [],
   "source": [
    "# Define a list called classifier that contains the tuples (classifier name, classifier)\n",
    "classifiers = [('logreg', LogisticRegression()),\n",
    "('knn', KNeighborsClassifier()),\n",
    "('rf', RandomForestClassifier()),\n",
    "('svm', SVC())]"
   ]
  },
  {
   "cell_type": "markdown",
   "metadata": {},
   "source": [
    "## Evaluate algorithms: baseline\n",
    "\n",
    "The algorithms all use default tuning parameters. We will display the mean and standard deviation of accuracy for each algorithm as we calculate it and collect the results for use later."
   ]
  },
  {
   "cell_type": "code",
   "execution_count": 127,
   "metadata": {},
   "outputs": [
    {
     "name": "stdout",
     "output_type": "stream",
     "text": [
      "logreg: 0.8091659902597403, 0.017873560839897985\n",
      "knn: 0.8182738095238096, 0.017134730113099326\n",
      "rf: 0.8341531385281385, 0.01216186605828859\n",
      "svm: 0.8104646915584416, 0.020805556096475056\n"
     ]
    }
   ],
   "source": [
    "results = []\n",
    "names = []\n",
    "for name, model in classifiers:\n",
    "    kfold = KFold(n_splits=10)\n",
    "    cv_score = cross_val_score(model, X_train, y_train, cv=kfold, scoring='accuracy')\n",
    "    results.append(cv_score)\n",
    "    names.append(name)\n",
    "    print(f'{name}: {cv_score.mean()}, {cv_score.std()}')"
   ]
  },
  {
   "cell_type": "markdown",
   "metadata": {},
   "source": [
    "The results suggest that Random Forest is way ahead of other classifiers."
   ]
  },
  {
   "cell_type": "markdown",
   "metadata": {},
   "source": [
    "## Compare the algorithms\n",
    "\n",
    "These are just mean accuracy values. Let's take a look at the distribution of accuracy values across different cross-validation folds, using box and whisker plots."
   ]
  },
  {
   "cell_type": "code",
   "execution_count": 128,
   "metadata": {},
   "outputs": [
    {
     "data": {
      "image/png": "[encoded data removed]",
      "text/plain": [
       "<Figure size 720x432 with 1 Axes>"
      ]
     },
     "metadata": {},
     "output_type": "display_data"
    }
   ],
   "source": [
    "fig = plt.figure()\n",
    "fig.suptitle('Model Comparison')\n",
    "ax = fig.add_subplot(111)\n",
    "plt.boxplot(results)\n",
    "ax.set_xticklabels(names)\n",
    "plt.gcf().set_size_inches(10,6)"
   ]
  },
  {
   "cell_type": "markdown",
   "metadata": {},
   "source": [
    "The results show a tight distribution for Random Forest, suggesting low variance."
   ]
  },
  {
   "cell_type": "markdown",
   "metadata": {},
   "source": [
    "## Tuning Random Forest\n",
    "\n",
    "We can tune a couple of key parameters of the Random Forest algorithm. We will perform a grid search using 10-fold cross validation."
   ]
  },
  {
   "cell_type": "code",
   "execution_count": 129,
   "metadata": {},
   "outputs": [],
   "source": [
    "# Define the parameters\n",
    "param_grid = {'n_estimators': [100,350,500],\n",
    "'max_features': ['log2', 'auto', 'sqrt'],\n",
    "'min_samples_leaf': [2,10,30]\n",
    "}"
   ]
  },
  {
   "cell_type": "code",
   "execution_count": 130,
   "metadata": {},
   "outputs": [
    {
     "name": "stdout",
     "output_type": "stream",
     "text": [
      "Best: 0.849512 using {'max_features': 'auto', 'min_samples_leaf': 10, 'n_estimators': 500}\n",
      "0.837539 (0.012590) with: {'max_features': 'log2', 'min_samples_leaf': 2, 'n_estimators': 100}\n",
      "0.842223 (0.012011) with: {'max_features': 'log2', 'min_samples_leaf': 2, 'n_estimators': 350}\n",
      "0.844307 (0.011455) with: {'max_features': 'log2', 'min_samples_leaf': 2, 'n_estimators': 500}\n",
      "0.848732 (0.014139) with: {'max_features': 'log2', 'min_samples_leaf': 10, 'n_estimators': 100}\n",
      "0.847168 (0.016196) with: {'max_features': 'log2', 'min_samples_leaf': 10, 'n_estimators': 350}\n",
      "0.847952 (0.013784) with: {'max_features': 'log2', 'min_samples_leaf': 10, 'n_estimators': 500}\n",
      "0.847432 (0.016052) with: {'max_features': 'log2', 'min_samples_leaf': 30, 'n_estimators': 100}\n",
      "0.845610 (0.015480) with: {'max_features': 'log2', 'min_samples_leaf': 30, 'n_estimators': 350}\n",
      "0.846130 (0.017286) with: {'max_features': 'log2', 'min_samples_leaf': 30, 'n_estimators': 500}\n",
      "0.844046 (0.009347) with: {'max_features': 'auto', 'min_samples_leaf': 2, 'n_estimators': 100}\n",
      "0.842224 (0.013286) with: {'max_features': 'auto', 'min_samples_leaf': 2, 'n_estimators': 350}\n",
      "0.842745 (0.011594) with: {'max_features': 'auto', 'min_samples_leaf': 2, 'n_estimators': 500}\n",
      "0.846649 (0.013657) with: {'max_features': 'auto', 'min_samples_leaf': 10, 'n_estimators': 100}\n",
      "0.847691 (0.014036) with: {'max_features': 'auto', 'min_samples_leaf': 10, 'n_estimators': 350}\n",
      "0.849512 (0.012860) with: {'max_features': 'auto', 'min_samples_leaf': 10, 'n_estimators': 500}\n",
      "0.847434 (0.017564) with: {'max_features': 'auto', 'min_samples_leaf': 30, 'n_estimators': 100}\n",
      "0.846651 (0.018197) with: {'max_features': 'auto', 'min_samples_leaf': 30, 'n_estimators': 350}\n",
      "0.846129 (0.016853) with: {'max_features': 'auto', 'min_samples_leaf': 30, 'n_estimators': 500}\n",
      "0.841184 (0.015651) with: {'max_features': 'sqrt', 'min_samples_leaf': 2, 'n_estimators': 100}\n",
      "0.844826 (0.012234) with: {'max_features': 'sqrt', 'min_samples_leaf': 2, 'n_estimators': 350}\n",
      "0.841964 (0.013878) with: {'max_features': 'sqrt', 'min_samples_leaf': 2, 'n_estimators': 500}\n",
      "0.847690 (0.014702) with: {'max_features': 'sqrt', 'min_samples_leaf': 10, 'n_estimators': 100}\n",
      "0.848993 (0.014355) with: {'max_features': 'sqrt', 'min_samples_leaf': 10, 'n_estimators': 350}\n",
      "0.847169 (0.015014) with: {'max_features': 'sqrt', 'min_samples_leaf': 10, 'n_estimators': 500}\n",
      "0.847690 (0.018428) with: {'max_features': 'sqrt', 'min_samples_leaf': 30, 'n_estimators': 100}\n",
      "0.845349 (0.017233) with: {'max_features': 'sqrt', 'min_samples_leaf': 30, 'n_estimators': 350}\n",
      "0.844829 (0.017542) with: {'max_features': 'sqrt', 'min_samples_leaf': 30, 'n_estimators': 500}\n"
     ]
    }
   ],
   "source": [
    "# Tune random forest classifier\n",
    "kfold = KFold(n_splits=10)\n",
    "model = RandomForestClassifier()\n",
    "grid = GridSearchCV(estimator=model, param_grid=param_grid, scoring = 'accuracy', cv=kfold)\n",
    "grid_result = grid.fit(X_train, y_train)\n",
    "print(\"Best: %f using %s\" % (grid_result.best_score_, grid_result.best_params_))\n",
    "means = grid_result.cv_results_['mean_test_score']\n",
    "stds = grid_result.cv_results_['std_test_score']\n",
    "params = grid_result.cv_results_['params']\n",
    "for mean, stdev, param in zip(means, stds, params):\n",
    "    print(\"%f (%f) with: %r\" % (mean, stdev, param))"
   ]
  },
  {
   "cell_type": "markdown",
   "metadata": {},
   "source": [
    "We can see the best conguration for Random Forest algorithm was with 500 trees, 'auto' max_features and 10 min_samples_leaf. The accuracy 84.95% is seemingly better too."
   ]
  },
  {
   "cell_type": "markdown",
   "metadata": {},
   "source": [
    "## Finalize the model\n",
    "\n",
    "Random Forest showed the most promise for this problem. We will now finalize the model by training it on the entire training dataset and make predictions for the hold-out validation dataset to confirm our findings."
   ]
  },
  {
   "cell_type": "code",
   "execution_count": 131,
   "metadata": {},
   "outputs": [
    {
     "data": {
      "text/plain": [
       "RandomForestClassifier(bootstrap=True, ccp_alpha=0.0, class_weight=None,\n",
       "                       criterion='gini', max_depth=None, max_features='auto',\n",
       "                       max_leaf_nodes=None, max_samples=None,\n",
       "                       min_impurity_decrease=0.0, min_impurity_split=None,\n",
       "                       min_samples_leaf=10, min_samples_split=2,\n",
       "                       min_weight_fraction_leaf=0.0, n_estimators=500,\n",
       "                       n_jobs=None, oob_score=False, random_state=None,\n",
       "                       verbose=0, warm_start=False)"
      ]
     },
     "execution_count": 131,
     "metadata": {},
     "output_type": "execute_result"
    }
   ],
   "source": [
    "# Find the best paramaters\n",
    "grid.best_estimator_"
   ]
  },
  {
   "cell_type": "code",
   "execution_count": 134,
   "metadata": {},
   "outputs": [
    {
     "name": "stdout",
     "output_type": "stream",
     "text": [
      "0.8459937565036421\n",
      "[[ 79 103]\n",
      " [ 45 734]]\n"
     ]
    }
   ],
   "source": [
    "# Estimate accuracy on validation dataset\n",
    "model = RandomForestClassifier(max_features='auto',\n",
    "                              min_samples_leaf=10,\n",
    "                              n_estimators=500)\n",
    "model.fit(X_train, y_train)\n",
    "y_pred = model.predict(X_test)\n",
    "print(accuracy_score(y_test, y_pred))\n",
    "print(confusion_matrix(y_test, y_pred))"
   ]
  },
  {
   "cell_type": "markdown",
   "metadata": {},
   "source": [
    "We can see that we have achieved an accuracy of 84.59% on the held-out validation dataset. This score matches very closely to our expectations estimated above during the tuning of Random Forest."
   ]
  },
  {
   "cell_type": "markdown",
   "metadata": {},
   "source": [
    "## Write out pickel model"
   ]
  },
  {
   "cell_type": "code",
   "execution_count": 133,
   "metadata": {},
   "outputs": [
    {
     "data": {
      "text/plain": [
       "['Pickle/classify_song.pkl']"
      ]
     },
     "execution_count": 133,
     "metadata": {},
     "output_type": "execute_result"
    }
   ],
   "source": [
    "joblib.dump(grid.best_estimator_, 'Pickle/classify_song.pkl')"
   ]
  }
 ],
 "metadata": {
  "kernelspec": {
   "display_name": "Python 3",
   "language": "python",
   "name": "python3"
  },
  "language_info": {
   "codemirror_mode": {
    "name": "ipython",
    "version": 3
   },
   "file_extension": ".py",
   "mimetype": "text/x-python",
   "name": "python",
   "nbconvert_exporter": "python",
   "pygments_lexer": "ipython3",
   "version": "3.7.6"
  }
 },
 "nbformat": 4,
 "nbformat_minor": 4
}
